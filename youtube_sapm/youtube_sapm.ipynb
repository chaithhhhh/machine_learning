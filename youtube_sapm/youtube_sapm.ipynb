{
  "nbformat": 4,
  "nbformat_minor": 0,
  "metadata": {
    "colab": {
      "provenance": [],
      "mount_file_id": "18fLrCSUn8pFMaTyhYgPkXBn0p6q96dsY",
      "authorship_tag": "ABX9TyODBrFZRA8///xtej8xxqfw"
    },
    "kernelspec": {
      "name": "python3",
      "display_name": "Python 3"
    },
    "language_info": {
      "name": "python"
    }
  },
  "cells": [
    {
      "cell_type": "code",
      "execution_count": null,
      "metadata": {
        "colab": {
          "base_uri": "https://localhost:8080/"
        },
        "id": "tqebpHMeWrxp",
        "outputId": "775be340-06d2-4ebf-d5c0-902ea4f95fce"
      },
      "outputs": [
        {
          "output_type": "stream",
          "name": "stdout",
          "text": [
            "/content/drive/MyDrive/youtube_spam\n"
          ]
        }
      ],
      "source": [
        "cd /content/drive/MyDrive/youtube_spam"
      ]
    },
    {
      "cell_type": "code",
      "source": [
        "import pandas as pd\n",
        "import numpy as np\n",
        "from sklearn.feature_extraction.text import CountVectorizer\n",
        "from sklearn.model_selection import train_test_split\n",
        "from sklearn.naive_bayes import BernoulliNB\n",
        "\n",
        "data = pd.read_csv(\"Youtube01-Psy.csv\")\n",
        "print(data.sample(5))"
      ],
      "metadata": {
        "colab": {
          "base_uri": "https://localhost:8080/"
        },
        "id": "R3vkV4akXB98",
        "outputId": "3c0a6786-9d2c-4f4a-b642-88167bd55f48"
      },
      "execution_count": null,
      "outputs": [
        {
          "output_type": "stream",
          "name": "stdout",
          "text": [
            "                                COMMENT_ID            AUTHOR  \\\n",
            "88     z13hgfzhnrj3sx0m222sfbo4drq1e5xyp04        Meth Lover   \n",
            "52   z120grixiomvyvbga04cfl24csz5jf4zzuc0k            eSkiip   \n",
            "281      z124elbgazqmuhvs5230ut14uta5irenh       Agarra Mela   \n",
            "331      z13supiartrcdr4la22xc3aripu2x1z3a  Ink Video Shorts   \n",
            "19     z13etj0bclzfztuwc04cgfvrgmf3fvjor1g     Jose Renteria   \n",
            "\n",
            "                    DATE                                            CONTENT  \\\n",
            "88   2014-11-03T20:32:26                        http://binbox.io/1FIRo#123﻿   \n",
            "52   2014-01-20T17:22:53  This video will get to 2 billion just because ...   \n",
            "281  2014-11-08T09:32:14  how does this video have 2,127,322,484 views i...   \n",
            "331  2014-11-13T02:33:53  Hey come check us out were new on youtube let ...   \n",
            "19   2013-11-29T00:22:01  We are an EDM apparel company dedicated to bri...   \n",
            "\n",
            "     CLASS  \n",
            "88       1  \n",
            "52       0  \n",
            "281      0  \n",
            "331      1  \n",
            "19       1  \n"
          ]
        }
      ]
    },
    {
      "cell_type": "code",
      "source": [
        "data"
      ],
      "metadata": {
        "id": "xj0TypNaXzcU",
        "outputId": "4dd4d98b-c93b-42b5-f06e-5adc8a06bbd4",
        "colab": {
          "base_uri": "https://localhost:8080/",
          "height": 423
        }
      },
      "execution_count": null,
      "outputs": [
        {
          "output_type": "execute_result",
          "data": {
            "text/plain": [
              "                                      COMMENT_ID  \\\n",
              "0    LZQPQhLyRh80UYxNuaDWhIGQYNQ96IuCg-AYWqNPjpU   \n",
              "1    LZQPQhLyRh_C2cTtd9MvFRJedxydaVW-2sNg5Diuo4A   \n",
              "2    LZQPQhLyRh9MSZYnf8djyk0gEF9BHDPYrrK-qCczIY8   \n",
              "3            z13jhp0bxqncu512g22wvzkasxmvvzjaz04   \n",
              "4            z13fwbwp1oujthgqj04chlngpvzmtt3r3dw   \n",
              "..                                           ...   \n",
              "345            z13th1q4yzihf1bll23qxzpjeujterydj   \n",
              "346        z13fcn1wfpb5e51xe04chdxakpzgchyaxzo0k   \n",
              "347          z130zd5b3titudkoe04ccbeohojxuzppvbg   \n",
              "348          z12he50arvrkivl5u04cctawgxzkjfsjcc4   \n",
              "349        z13vhvu54u3ewpp5h04ccb4zuoardrmjlyk0k   \n",
              "\n",
              "                                   AUTHOR                 DATE  \\\n",
              "0                               Julius NM  2013-11-07T06:20:48   \n",
              "1                             adam riyati  2013-11-07T12:37:15   \n",
              "2                        Evgeny Murashkin  2013-11-08T17:34:21   \n",
              "3                         ElNino Melendez  2013-11-09T08:28:43   \n",
              "4                                  GsMega  2013-11-10T16:05:38   \n",
              "..                                    ...                  ...   \n",
              "345                       Carmen Racasanu  2014-11-14T13:27:52   \n",
              "346                       diego mogrovejo  2014-11-14T13:28:08   \n",
              "347  BlueYetiPlayz -Call Of Duty and More  2015-05-23T13:04:32   \n",
              "348                          Photo Editor  2015-06-05T14:14:48   \n",
              "349                            Ray Benich  2015-06-05T18:05:16   \n",
              "\n",
              "                                               CONTENT  CLASS  \n",
              "0    Huh, anyway check out this you[tube] channel: ...      1  \n",
              "1    Hey guys check out my new channel and our firs...      1  \n",
              "2               just for test I have to say murdev.com      1  \n",
              "3     me shaking my sexy ass on my channel enjoy ^_^ ﻿      1  \n",
              "4              watch?v=vtaRGgvGtWQ   Check this out .﻿      1  \n",
              "..                                                 ...    ...  \n",
              "345  How can this have 2 billion views when there's...      0  \n",
              "346         I don't now why I'm watching this in 2014﻿      0  \n",
              "347  subscribe to me for call of duty vids and give...      1  \n",
              "348  hi guys please my android photo editor downloa...      1  \n",
              "349  The first billion viewed this because they tho...      0  \n",
              "\n",
              "[350 rows x 5 columns]"
            ],
            "text/html": [
              "\n",
              "  <div id=\"df-34397cff-c0f3-465b-b45d-7e23bf6285d2\" class=\"colab-df-container\">\n",
              "    <div>\n",
              "<style scoped>\n",
              "    .dataframe tbody tr th:only-of-type {\n",
              "        vertical-align: middle;\n",
              "    }\n",
              "\n",
              "    .dataframe tbody tr th {\n",
              "        vertical-align: top;\n",
              "    }\n",
              "\n",
              "    .dataframe thead th {\n",
              "        text-align: right;\n",
              "    }\n",
              "</style>\n",
              "<table border=\"1\" class=\"dataframe\">\n",
              "  <thead>\n",
              "    <tr style=\"text-align: right;\">\n",
              "      <th></th>\n",
              "      <th>COMMENT_ID</th>\n",
              "      <th>AUTHOR</th>\n",
              "      <th>DATE</th>\n",
              "      <th>CONTENT</th>\n",
              "      <th>CLASS</th>\n",
              "    </tr>\n",
              "  </thead>\n",
              "  <tbody>\n",
              "    <tr>\n",
              "      <th>0</th>\n",
              "      <td>LZQPQhLyRh80UYxNuaDWhIGQYNQ96IuCg-AYWqNPjpU</td>\n",
              "      <td>Julius NM</td>\n",
              "      <td>2013-11-07T06:20:48</td>\n",
              "      <td>Huh, anyway check out this you[tube] channel: ...</td>\n",
              "      <td>1</td>\n",
              "    </tr>\n",
              "    <tr>\n",
              "      <th>1</th>\n",
              "      <td>LZQPQhLyRh_C2cTtd9MvFRJedxydaVW-2sNg5Diuo4A</td>\n",
              "      <td>adam riyati</td>\n",
              "      <td>2013-11-07T12:37:15</td>\n",
              "      <td>Hey guys check out my new channel and our firs...</td>\n",
              "      <td>1</td>\n",
              "    </tr>\n",
              "    <tr>\n",
              "      <th>2</th>\n",
              "      <td>LZQPQhLyRh9MSZYnf8djyk0gEF9BHDPYrrK-qCczIY8</td>\n",
              "      <td>Evgeny Murashkin</td>\n",
              "      <td>2013-11-08T17:34:21</td>\n",
              "      <td>just for test I have to say murdev.com</td>\n",
              "      <td>1</td>\n",
              "    </tr>\n",
              "    <tr>\n",
              "      <th>3</th>\n",
              "      <td>z13jhp0bxqncu512g22wvzkasxmvvzjaz04</td>\n",
              "      <td>ElNino Melendez</td>\n",
              "      <td>2013-11-09T08:28:43</td>\n",
              "      <td>me shaking my sexy ass on my channel enjoy ^_^ ﻿</td>\n",
              "      <td>1</td>\n",
              "    </tr>\n",
              "    <tr>\n",
              "      <th>4</th>\n",
              "      <td>z13fwbwp1oujthgqj04chlngpvzmtt3r3dw</td>\n",
              "      <td>GsMega</td>\n",
              "      <td>2013-11-10T16:05:38</td>\n",
              "      <td>watch?v=vtaRGgvGtWQ   Check this out .﻿</td>\n",
              "      <td>1</td>\n",
              "    </tr>\n",
              "    <tr>\n",
              "      <th>...</th>\n",
              "      <td>...</td>\n",
              "      <td>...</td>\n",
              "      <td>...</td>\n",
              "      <td>...</td>\n",
              "      <td>...</td>\n",
              "    </tr>\n",
              "    <tr>\n",
              "      <th>345</th>\n",
              "      <td>z13th1q4yzihf1bll23qxzpjeujterydj</td>\n",
              "      <td>Carmen Racasanu</td>\n",
              "      <td>2014-11-14T13:27:52</td>\n",
              "      <td>How can this have 2 billion views when there's...</td>\n",
              "      <td>0</td>\n",
              "    </tr>\n",
              "    <tr>\n",
              "      <th>346</th>\n",
              "      <td>z13fcn1wfpb5e51xe04chdxakpzgchyaxzo0k</td>\n",
              "      <td>diego mogrovejo</td>\n",
              "      <td>2014-11-14T13:28:08</td>\n",
              "      <td>I don't now why I'm watching this in 2014﻿</td>\n",
              "      <td>0</td>\n",
              "    </tr>\n",
              "    <tr>\n",
              "      <th>347</th>\n",
              "      <td>z130zd5b3titudkoe04ccbeohojxuzppvbg</td>\n",
              "      <td>BlueYetiPlayz -Call Of Duty and More</td>\n",
              "      <td>2015-05-23T13:04:32</td>\n",
              "      <td>subscribe to me for call of duty vids and give...</td>\n",
              "      <td>1</td>\n",
              "    </tr>\n",
              "    <tr>\n",
              "      <th>348</th>\n",
              "      <td>z12he50arvrkivl5u04cctawgxzkjfsjcc4</td>\n",
              "      <td>Photo Editor</td>\n",
              "      <td>2015-06-05T14:14:48</td>\n",
              "      <td>hi guys please my android photo editor downloa...</td>\n",
              "      <td>1</td>\n",
              "    </tr>\n",
              "    <tr>\n",
              "      <th>349</th>\n",
              "      <td>z13vhvu54u3ewpp5h04ccb4zuoardrmjlyk0k</td>\n",
              "      <td>Ray Benich</td>\n",
              "      <td>2015-06-05T18:05:16</td>\n",
              "      <td>The first billion viewed this because they tho...</td>\n",
              "      <td>0</td>\n",
              "    </tr>\n",
              "  </tbody>\n",
              "</table>\n",
              "<p>350 rows × 5 columns</p>\n",
              "</div>\n",
              "    <div class=\"colab-df-buttons\">\n",
              "\n",
              "  <div class=\"colab-df-container\">\n",
              "    <button class=\"colab-df-convert\" onclick=\"convertToInteractive('df-34397cff-c0f3-465b-b45d-7e23bf6285d2')\"\n",
              "            title=\"Convert this dataframe to an interactive table.\"\n",
              "            style=\"display:none;\">\n",
              "\n",
              "  <svg xmlns=\"http://www.w3.org/2000/svg\" height=\"24px\" viewBox=\"0 -960 960 960\">\n",
              "    <path d=\"M120-120v-720h720v720H120Zm60-500h600v-160H180v160Zm220 220h160v-160H400v160Zm0 220h160v-160H400v160ZM180-400h160v-160H180v160Zm440 0h160v-160H620v160ZM180-180h160v-160H180v160Zm440 0h160v-160H620v160Z\"/>\n",
              "  </svg>\n",
              "    </button>\n",
              "\n",
              "  <style>\n",
              "    .colab-df-container {\n",
              "      display:flex;\n",
              "      gap: 12px;\n",
              "    }\n",
              "\n",
              "    .colab-df-convert {\n",
              "      background-color: #E8F0FE;\n",
              "      border: none;\n",
              "      border-radius: 50%;\n",
              "      cursor: pointer;\n",
              "      display: none;\n",
              "      fill: #1967D2;\n",
              "      height: 32px;\n",
              "      padding: 0 0 0 0;\n",
              "      width: 32px;\n",
              "    }\n",
              "\n",
              "    .colab-df-convert:hover {\n",
              "      background-color: #E2EBFA;\n",
              "      box-shadow: 0px 1px 2px rgba(60, 64, 67, 0.3), 0px 1px 3px 1px rgba(60, 64, 67, 0.15);\n",
              "      fill: #174EA6;\n",
              "    }\n",
              "\n",
              "    .colab-df-buttons div {\n",
              "      margin-bottom: 4px;\n",
              "    }\n",
              "\n",
              "    [theme=dark] .colab-df-convert {\n",
              "      background-color: #3B4455;\n",
              "      fill: #D2E3FC;\n",
              "    }\n",
              "\n",
              "    [theme=dark] .colab-df-convert:hover {\n",
              "      background-color: #434B5C;\n",
              "      box-shadow: 0px 1px 3px 1px rgba(0, 0, 0, 0.15);\n",
              "      filter: drop-shadow(0px 1px 2px rgba(0, 0, 0, 0.3));\n",
              "      fill: #FFFFFF;\n",
              "    }\n",
              "  </style>\n",
              "\n",
              "    <script>\n",
              "      const buttonEl =\n",
              "        document.querySelector('#df-34397cff-c0f3-465b-b45d-7e23bf6285d2 button.colab-df-convert');\n",
              "      buttonEl.style.display =\n",
              "        google.colab.kernel.accessAllowed ? 'block' : 'none';\n",
              "\n",
              "      async function convertToInteractive(key) {\n",
              "        const element = document.querySelector('#df-34397cff-c0f3-465b-b45d-7e23bf6285d2');\n",
              "        const dataTable =\n",
              "          await google.colab.kernel.invokeFunction('convertToInteractive',\n",
              "                                                    [key], {});\n",
              "        if (!dataTable) return;\n",
              "\n",
              "        const docLinkHtml = 'Like what you see? Visit the ' +\n",
              "          '<a target=\"_blank\" href=https://colab.research.google.com/notebooks/data_table.ipynb>data table notebook</a>'\n",
              "          + ' to learn more about interactive tables.';\n",
              "        element.innerHTML = '';\n",
              "        dataTable['output_type'] = 'display_data';\n",
              "        await google.colab.output.renderOutput(dataTable, element);\n",
              "        const docLink = document.createElement('div');\n",
              "        docLink.innerHTML = docLinkHtml;\n",
              "        element.appendChild(docLink);\n",
              "      }\n",
              "    </script>\n",
              "  </div>\n",
              "\n",
              "\n",
              "<div id=\"df-4a0e7221-7a77-4e5c-818c-afe0bcd884a4\">\n",
              "  <button class=\"colab-df-quickchart\" onclick=\"quickchart('df-4a0e7221-7a77-4e5c-818c-afe0bcd884a4')\"\n",
              "            title=\"Suggest charts.\"\n",
              "            style=\"display:none;\">\n",
              "\n",
              "<svg xmlns=\"http://www.w3.org/2000/svg\" height=\"24px\"viewBox=\"0 0 24 24\"\n",
              "     width=\"24px\">\n",
              "    <g>\n",
              "        <path d=\"M19 3H5c-1.1 0-2 .9-2 2v14c0 1.1.9 2 2 2h14c1.1 0 2-.9 2-2V5c0-1.1-.9-2-2-2zM9 17H7v-7h2v7zm4 0h-2V7h2v10zm4 0h-2v-4h2v4z\"/>\n",
              "    </g>\n",
              "</svg>\n",
              "  </button>\n",
              "\n",
              "<style>\n",
              "  .colab-df-quickchart {\n",
              "      --bg-color: #E8F0FE;\n",
              "      --fill-color: #1967D2;\n",
              "      --hover-bg-color: #E2EBFA;\n",
              "      --hover-fill-color: #174EA6;\n",
              "      --disabled-fill-color: #AAA;\n",
              "      --disabled-bg-color: #DDD;\n",
              "  }\n",
              "\n",
              "  [theme=dark] .colab-df-quickchart {\n",
              "      --bg-color: #3B4455;\n",
              "      --fill-color: #D2E3FC;\n",
              "      --hover-bg-color: #434B5C;\n",
              "      --hover-fill-color: #FFFFFF;\n",
              "      --disabled-bg-color: #3B4455;\n",
              "      --disabled-fill-color: #666;\n",
              "  }\n",
              "\n",
              "  .colab-df-quickchart {\n",
              "    background-color: var(--bg-color);\n",
              "    border: none;\n",
              "    border-radius: 50%;\n",
              "    cursor: pointer;\n",
              "    display: none;\n",
              "    fill: var(--fill-color);\n",
              "    height: 32px;\n",
              "    padding: 0;\n",
              "    width: 32px;\n",
              "  }\n",
              "\n",
              "  .colab-df-quickchart:hover {\n",
              "    background-color: var(--hover-bg-color);\n",
              "    box-shadow: 0 1px 2px rgba(60, 64, 67, 0.3), 0 1px 3px 1px rgba(60, 64, 67, 0.15);\n",
              "    fill: var(--button-hover-fill-color);\n",
              "  }\n",
              "\n",
              "  .colab-df-quickchart-complete:disabled,\n",
              "  .colab-df-quickchart-complete:disabled:hover {\n",
              "    background-color: var(--disabled-bg-color);\n",
              "    fill: var(--disabled-fill-color);\n",
              "    box-shadow: none;\n",
              "  }\n",
              "\n",
              "  .colab-df-spinner {\n",
              "    border: 2px solid var(--fill-color);\n",
              "    border-color: transparent;\n",
              "    border-bottom-color: var(--fill-color);\n",
              "    animation:\n",
              "      spin 1s steps(1) infinite;\n",
              "  }\n",
              "\n",
              "  @keyframes spin {\n",
              "    0% {\n",
              "      border-color: transparent;\n",
              "      border-bottom-color: var(--fill-color);\n",
              "      border-left-color: var(--fill-color);\n",
              "    }\n",
              "    20% {\n",
              "      border-color: transparent;\n",
              "      border-left-color: var(--fill-color);\n",
              "      border-top-color: var(--fill-color);\n",
              "    }\n",
              "    30% {\n",
              "      border-color: transparent;\n",
              "      border-left-color: var(--fill-color);\n",
              "      border-top-color: var(--fill-color);\n",
              "      border-right-color: var(--fill-color);\n",
              "    }\n",
              "    40% {\n",
              "      border-color: transparent;\n",
              "      border-right-color: var(--fill-color);\n",
              "      border-top-color: var(--fill-color);\n",
              "    }\n",
              "    60% {\n",
              "      border-color: transparent;\n",
              "      border-right-color: var(--fill-color);\n",
              "    }\n",
              "    80% {\n",
              "      border-color: transparent;\n",
              "      border-right-color: var(--fill-color);\n",
              "      border-bottom-color: var(--fill-color);\n",
              "    }\n",
              "    90% {\n",
              "      border-color: transparent;\n",
              "      border-bottom-color: var(--fill-color);\n",
              "    }\n",
              "  }\n",
              "</style>\n",
              "\n",
              "  <script>\n",
              "    async function quickchart(key) {\n",
              "      const quickchartButtonEl =\n",
              "        document.querySelector('#' + key + ' button');\n",
              "      quickchartButtonEl.disabled = true;  // To prevent multiple clicks.\n",
              "      quickchartButtonEl.classList.add('colab-df-spinner');\n",
              "      try {\n",
              "        const charts = await google.colab.kernel.invokeFunction(\n",
              "            'suggestCharts', [key], {});\n",
              "      } catch (error) {\n",
              "        console.error('Error during call to suggestCharts:', error);\n",
              "      }\n",
              "      quickchartButtonEl.classList.remove('colab-df-spinner');\n",
              "      quickchartButtonEl.classList.add('colab-df-quickchart-complete');\n",
              "    }\n",
              "    (() => {\n",
              "      let quickchartButtonEl =\n",
              "        document.querySelector('#df-4a0e7221-7a77-4e5c-818c-afe0bcd884a4 button');\n",
              "      quickchartButtonEl.style.display =\n",
              "        google.colab.kernel.accessAllowed ? 'block' : 'none';\n",
              "    })();\n",
              "  </script>\n",
              "</div>\n",
              "    </div>\n",
              "  </div>\n"
            ]
          },
          "metadata": {},
          "execution_count": 3
        }
      ]
    },
    {
      "cell_type": "code",
      "source": [
        "data = data[[\"CONTENT\", \"CLASS\"]]\n",
        "2\n",
        "print(data.sample(5))\n"
      ],
      "metadata": {
        "colab": {
          "base_uri": "https://localhost:8080/"
        },
        "id": "4HGWGlE_XGDP",
        "outputId": "baa8eef3-a50b-4dda-b5e3-d435b6025e5d"
      },
      "execution_count": null,
      "outputs": [
        {
          "output_type": "stream",
          "name": "stdout",
          "text": [
            "                                               CONTENT  CLASS\n",
            "206                                    Wow 23 min ago﻿      0\n",
            "196               What is he saying?!?!?!?!?!?!?!?$? ﻿      0\n",
            "226  DISLIKE.. Now one knows REAL music - ex. Enimen ﻿      0\n",
            "17   http://www.ebay.com/itm/171183229277?ssPageNam...      1\n",
            "170        Subscribe to me and I'll subscribe back!!!﻿      1\n"
          ]
        }
      ]
    },
    {
      "cell_type": "code",
      "source": [
        "data[\"CLASS\"] = data[\"CLASS\"].map({0: \"Not Spam\",\n",
        "                                   1: \"Spam Comment\"})\n",
        "print(data.sample(5))"
      ],
      "metadata": {
        "colab": {
          "base_uri": "https://localhost:8080/"
        },
        "id": "PVuYTTdyXJ1D",
        "outputId": "c7c2f0a5-d9e5-4572-9674-074b4a673602"
      },
      "execution_count": null,
      "outputs": [
        {
          "output_type": "stream",
          "name": "stdout",
          "text": [
            "                                               CONTENT         CLASS\n",
            "46   now its 1,884,034,783 views! pls. comment the ...      Not Spam\n",
            "291            2 billion views, only 2 million shares﻿      Not Spam\n",
            "74   http://www.guardalo.org/best-of-funny-cats-gat...  Spam Comment\n",
            "66                                         psy=korean﻿      Not Spam\n",
            "294  follower please https://www.facebook.com/lists...  Spam Comment\n"
          ]
        },
        {
          "output_type": "stream",
          "name": "stderr",
          "text": [
            "<ipython-input-5-919dfeed56b1>:1: SettingWithCopyWarning: \n",
            "A value is trying to be set on a copy of a slice from a DataFrame.\n",
            "Try using .loc[row_indexer,col_indexer] = value instead\n",
            "\n",
            "See the caveats in the documentation: https://pandas.pydata.org/pandas-docs/stable/user_guide/indexing.html#returning-a-view-versus-a-copy\n",
            "  data[\"CLASS\"] = data[\"CLASS\"].map({0: \"Not Spam\",\n"
          ]
        }
      ]
    },
    {
      "cell_type": "code",
      "source": [
        "x = np.array(data[\"CONTENT\"])\n",
        "y = np.array(data[\"CLASS\"])\n",
        "\n",
        "cv = CountVectorizer()\n",
        "x = cv.fit_transform(x)\n",
        "xtrain, xtest, ytrain, ytest = train_test_split(x, y,\n",
        "                                                test_size=0.2,\n",
        "                                                random_state=42)\n",
        "\n",
        "model = BernoulliNB()\n",
        "model.fit(xtrain, ytrain)\n",
        "print(model.score(xtest, ytest))"
      ],
      "metadata": {
        "colab": {
          "base_uri": "https://localhost:8080/"
        },
        "id": "hY_HRWisXMbh",
        "outputId": "506bb9f6-00a6-4976-b65b-ec932bffac9c"
      },
      "execution_count": null,
      "outputs": [
        {
          "output_type": "stream",
          "name": "stdout",
          "text": [
            "0.9857142857142858\n"
          ]
        }
      ]
    },
    {
      "cell_type": "code",
      "source": [
        "sample = \"Check this out: https://thecleverprogrammer.com/\"\n",
        "data = cv.transform([sample]).toarray()\n",
        "print(model.predict(data))"
      ],
      "metadata": {
        "colab": {
          "base_uri": "https://localhost:8080/"
        },
        "id": "0izlMpidXQnR",
        "outputId": "81a708e1-76c5-443b-f2e9-2db3ab9dc00b"
      },
      "execution_count": null,
      "outputs": [
        {
          "output_type": "stream",
          "name": "stdout",
          "text": [
            "['Spam Comment']\n"
          ]
        }
      ]
    },
    {
      "cell_type": "code",
      "source": [
        "sample = \"Lack of information!\"\n",
        "data = cv.transform([sample]).toarray()\n",
        "print(model.predict(data))"
      ],
      "metadata": {
        "colab": {
          "base_uri": "https://localhost:8080/"
        },
        "id": "cfDmpUvAXW0K",
        "outputId": "03ea7e08-0a32-4582-b65c-cb1324697ded"
      },
      "execution_count": null,
      "outputs": [
        {
          "output_type": "stream",
          "name": "stdout",
          "text": [
            "['Not Spam']\n"
          ]
        }
      ]
    },
    {
      "cell_type": "code",
      "source": [
        "sample = \"it was a good movie\"\n",
        "data = cv.transform([sample]).toarray()\n",
        "print(model.predict(data))"
      ],
      "metadata": {
        "id": "IHdvflS0XcYs"
      },
      "execution_count": null,
      "outputs": []
    },
    {
      "cell_type": "code",
      "source": [
        "sample = \" free part time job contact https/hyhsdhf/jdfk\"\n",
        "data = cv.transform([sample]).toarray()\n",
        "print(model.predict(data))"
      ],
      "metadata": {
        "colab": {
          "base_uri": "https://localhost:8080/"
        },
        "id": "by1NIdjgXj7g",
        "outputId": "303a9af3-5107-4aec-eb86-7deb19302d20"
      },
      "execution_count": null,
      "outputs": [
        {
          "output_type": "stream",
          "name": "stdout",
          "text": [
            "['Spam Comment']\n"
          ]
        }
      ]
    },
    {
      "cell_type": "code",
      "source": [],
      "metadata": {
        "id": "IeGkPQnWXsMG"
      },
      "execution_count": null,
      "outputs": []
    }
  ]
}